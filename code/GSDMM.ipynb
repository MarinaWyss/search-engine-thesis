{
 "cells": [
  {
   "cell_type": "code",
   "execution_count": 1,
   "metadata": {},
   "outputs": [],
   "source": [
    "import pandas as pd\n",
    "import numpy as np\n",
    "from gsdmm import MovieGroupProcess\n",
    "import nltk"
   ]
  },
  {
   "cell_type": "code",
   "execution_count": 2,
   "metadata": {},
   "outputs": [],
   "source": [
    "data = pd.read_csv(\"/Users/marinabennett/Desktop/Hertie/Thesis/search-engine-thesis/data/topicData.csv\")"
   ]
  },
  {
   "cell_type": "code",
   "execution_count": 7,
   "metadata": {},
   "outputs": [],
   "source": [
    "data[\"search_clean\"] = data['search_term'].str.replace('[^\\w\\s]','')"
   ]
  },
  {
   "cell_type": "code",
   "execution_count": 8,
   "metadata": {},
   "outputs": [],
   "source": [
    "data['tokenized_sents'] = data[\"search_clean\"].apply(nltk.word_tokenize)"
   ]
  },
  {
   "cell_type": "code",
   "execution_count": 10,
   "metadata": {},
   "outputs": [],
   "source": [
    "data_small = data.head(1000)"
   ]
  },
  {
   "cell_type": "code",
   "execution_count": 11,
   "metadata": {},
   "outputs": [],
   "source": [
    "docs = data_small['tokenized_sents'].tolist()"
   ]
  },
  {
   "cell_type": "code",
   "execution_count": 12,
   "metadata": {},
   "outputs": [],
   "source": [
    "# Init of the Gibbs Sampling Dirichlet Mixture Model algorithm\n",
    "## K = number of potential topic (which we don't know a priori)\n",
    "## alpha = \n",
    "## beta = \n",
    "## n_iters = number of iterations to \n",
    "mgp = MovieGroupProcess(K = 10, alpha = 0.1, beta = 0.1, n_iters = 10)\n",
    "vocab = set(x for doc in docs for x in doc)\n",
    "n_terms = len(vocab)"
   ]
  },
  {
   "cell_type": "code",
   "execution_count": 13,
   "metadata": {
    "scrolled": true
   },
   "outputs": [
    {
     "name": "stdout",
     "output_type": "stream",
     "text": [
      "In stage 0: transferred 800 clusters with 10 clusters populated\n",
      "In stage 1: transferred 543 clusters with 10 clusters populated\n",
      "In stage 2: transferred 364 clusters with 10 clusters populated\n",
      "In stage 3: transferred 252 clusters with 10 clusters populated\n",
      "In stage 4: transferred 216 clusters with 10 clusters populated\n",
      "In stage 5: transferred 203 clusters with 10 clusters populated\n",
      "In stage 6: transferred 212 clusters with 10 clusters populated\n",
      "In stage 7: transferred 204 clusters with 10 clusters populated\n",
      "In stage 8: transferred 192 clusters with 10 clusters populated\n",
      "In stage 9: transferred 205 clusters with 10 clusters populated\n"
     ]
    }
   ],
   "source": [
    "# run model\n",
    "y = mgp.fit(docs, n_terms)"
   ]
  },
  {
   "cell_type": "code",
   "execution_count": 14,
   "metadata": {
    "scrolled": false
   },
   "outputs": [
    {
     "name": "stdout",
     "output_type": "stream",
     "text": [
      "Number of documents per topics : [ 47  64  79  60 299  88  57 162  48  96]\n"
     ]
    }
   ],
   "source": [
    "doc_count = np.array(mgp.cluster_doc_count)\n",
    "print('Number of documents per topics :', doc_count)"
   ]
  },
  {
   "cell_type": "code",
   "execution_count": 15,
   "metadata": {
    "scrolled": true
   },
   "outputs": [
    {
     "name": "stdout",
     "output_type": "stream",
     "text": [
      "Most important clusters (by number of docs inside): [4 7 9 5 2 1 3 6 8 0]\n"
     ]
    }
   ],
   "source": [
    "top_index = doc_count.argsort()[-10:][::-1]\n",
    "print('Most important clusters (by number of docs inside):', top_index)"
   ]
  },
  {
   "cell_type": "code",
   "execution_count": 17,
   "metadata": {},
   "outputs": [],
   "source": [
    "topics = mgp.cluster_word_distribution"
   ]
  }
 ],
 "metadata": {
  "kernelspec": {
   "display_name": "Python 3",
   "language": "python",
   "name": "python3"
  },
  "language_info": {
   "codemirror_mode": {
    "name": "ipython",
    "version": 3
   },
   "file_extension": ".py",
   "mimetype": "text/x-python",
   "name": "python",
   "nbconvert_exporter": "python",
   "pygments_lexer": "ipython3",
   "version": "3.6.4"
  }
 },
 "nbformat": 4,
 "nbformat_minor": 2
}
